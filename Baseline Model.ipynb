{
 "cells": [
  {
   "cell_type": "markdown",
   "metadata": {},
   "source": [
    "# Import packages"
   ]
  },
  {
   "cell_type": "code",
   "execution_count": 808,
   "metadata": {},
   "outputs": [],
   "source": [
    "# Data packages\n",
    "import pandas as pd\n",
    "import numpy as np\n",
    "from sklearn.datasets import load_boston\n",
    "from sklearn.model_selection import train_test_split\n",
    "import math\n",
    "\n",
    "# TensorFlow packages\n",
    "import tensorflow as tf\n",
    "from tensorflow import keras\n",
    "from tensorflow.keras.layers import Conv2D, MaxPooling2D, Dropout, Flatten, Dense\n",
    "from keras.models import Sequential\n",
    "from keras.layers import Dense\n",
    "\n",
    "# Graphical/Geo packages\n",
    "import matplotlib.pyplot as plt\n",
    "import plotly.graph_objects as go\n",
    "import seaborn as sns\n",
    "from plotly.subplots import make_subplots\n",
    "#import IPython\n",
    "import censusdata\n",
    "import geopy\n",
    "\n",
    "np.set_printoptions(precision=4)"
   ]
  },
  {
   "cell_type": "markdown",
   "metadata": {},
   "source": [
    "# Read In Hud Data, drop excess columns, and replace missing records with NaN"
   ]
  },
  {
   "cell_type": "code",
   "execution_count": 809,
   "metadata": {},
   "outputs": [],
   "source": [
    "df = pd.read_csv('ah_hud_va.csv')\n",
    "exclude_cols = ['Congressional District','CBSA','PLACE','State','PHA Total Units','HA category']\n",
    "df = df[[i[1] for i in enumerate(df.columns) if i[0]>6 and i[1] not in exclude_cols]]\n",
    "df = df.replace(-4,np.nan)"
   ]
  },
  {
   "cell_type": "markdown",
   "metadata": {},
   "source": [
    "# Create function to convert lat/long to zip"
   ]
  },
  {
   "cell_type": "code",
   "execution_count": 810,
   "metadata": {},
   "outputs": [],
   "source": [
    "def get_zipcode(df, geolocator, lat_field, lon_field):\n",
    "    location = geolocator.reverse((df[lat_field], df[lon_field]))\n",
    "    return location.raw['address']['postcode']"
   ]
  },
  {
   "cell_type": "markdown",
   "metadata": {},
   "source": [
    "# Get zip codes for the HuD dataset"
   ]
  },
  {
   "cell_type": "code",
   "execution_count": 811,
   "metadata": {},
   "outputs": [],
   "source": [
    "geolocator = geopy.Nominatim(user_agent='me')\n",
    "df_lat = df[['Latitude','Longitude']].dropna().reset_index(drop=True).drop_duplicates()\n",
    "df_lat['zip_code'] = df_lat.apply(get_zipcode, axis=1, geolocator=geolocator, lat_field='Latitude', lon_field='Longitude')\n",
    "df_lat['zip_code'] = df_lat['zip_code'].apply(lambda x: str(x)[:5])"
   ]
  },
  {
   "cell_type": "markdown",
   "metadata": {},
   "source": [
    "# Read in VA zip code file"
   ]
  },
  {
   "cell_type": "code",
   "execution_count": 812,
   "metadata": {},
   "outputs": [],
   "source": [
    "df_zips = pd.read_csv('zipcodes.csv')\n",
    "df_zips['zip_code'] = df_zips['zip_code'].apply(lambda x:str(x))\n",
    "df_zips = pd.merge(df_zips,df_lat,left_on='zip_code',right_on='zip_code',how='outer').drop_duplicates()"
   ]
  },
  {
   "cell_type": "markdown",
   "metadata": {},
   "source": [
    "# Query US census dataset for all 2018 fields with income in the description"
   ]
  },
  {
   "cell_type": "code",
   "execution_count": 813,
   "metadata": {},
   "outputs": [],
   "source": [
    "col_dict = {i[0]:[i[1],i[2]] for i in censusdata.search('acs5', 2018,'concept', 'income') if i[0][-1]=='E'}"
   ]
  },
  {
   "cell_type": "markdown",
   "metadata": {},
   "source": [
    "# Look up all counties in VA according to census dataset"
   ]
  },
  {
   "cell_type": "code",
   "execution_count": 814,
   "metadata": {},
   "outputs": [],
   "source": [
    "counties = censusdata.geographies(censusdata.censusgeo([('state', '51'), ('county', '*')]), 'acs5', 2018)"
   ]
  },
  {
   "cell_type": "markdown",
   "metadata": {},
   "source": [
    "# Pull income data fields by county from the census data"
   ]
  },
  {
   "cell_type": "code",
   "execution_count": 815,
   "metadata": {},
   "outputs": [],
   "source": [
    "base_to_drop = ['B19123','B26216','B28004','B29004','C27016','C27017','C27018']\n",
    "keys_to_use = [i for i in list(col_dict.keys()) if i[:6] not in base_to_drop]\n",
    "data = censusdata.download('acs5', 2015,\n",
    "           censusdata.censusgeo([('state', '51'),\n",
    "                                 ('county', '*')]),\n",
    "                           keys_to_use)"
   ]
  },
  {
   "cell_type": "markdown",
   "metadata": {},
   "source": [
    "# Clean census dataset and add county names"
   ]
  },
  {
   "cell_type": "code",
   "execution_count": 816,
   "metadata": {},
   "outputs": [],
   "source": [
    "data.reset_index(inplace=True)\n",
    "data['County'] = data['index'].apply(lambda x: str(x)[:str(x).find(' County')])\n",
    "data['County'] = np.where(data['County'].str.find('city')>=0,'City of '+data['County'],data['County'])\n",
    "data['County'] = np.where(data['County'].str.find(' city')>=0,data['County'].apply(lambda x: str(x)[:str(x).find(' city')]),data['County'])\n",
    "del data['index']"
   ]
  },
  {
   "cell_type": "markdown",
   "metadata": {},
   "source": [
    "# Add zipcodes to the census dataset"
   ]
  },
  {
   "cell_type": "code",
   "execution_count": 817,
   "metadata": {},
   "outputs": [],
   "source": [
    "df_zipsdata = pd.merge(df_zips[['zip_code','County']],data,left_on='County',right_on='County').drop_duplicates()\n",
    "df_zipsdata['zip_code'] = df_zipsdata['zip_code'].apply(lambda x: str(x))"
   ]
  },
  {
   "cell_type": "markdown",
   "metadata": {},
   "source": [
    "# Add counties and subsidized housing data to the census dataset"
   ]
  },
  {
   "cell_type": "code",
   "execution_count": 818,
   "metadata": {},
   "outputs": [],
   "source": [
    "df_agg = pd.merge(df_lat,df,left_on=['Latitude','Longitude'],right_on=['Latitude','Longitude'])[['zip_code','Subsidized units available']]\n",
    "df_agg['zip_code'] = df_agg['zip_code'].apply(lambda x: str(x))\n",
    "df_agg = df_agg.groupby('zip_code').sum().reset_index()\n",
    "df_agg = pd.merge(df_agg,df_zipsdata[['zip_code','County']],left_on='zip_code',right_on='zip_code',how='outer').drop_duplicates().groupby('County').sum().reset_index()\n",
    "del df_zipsdata['zip_code']\n",
    "df_agg = pd.merge(df_zipsdata,df_agg,left_on='County',right_on='County').drop_duplicates()\n",
    "df_agg.set_index('County',inplace=True)\n",
    "df_agg.dropna(axis=1,how='any',inplace=True)\n",
    "df_agg = df_agg.loc[:, df_agg.std() > 0]"
   ]
  },
  {
   "cell_type": "markdown",
   "metadata": {},
   "source": [
    "# Data Acquisition complete"
   ]
  },
  {
   "cell_type": "markdown",
   "metadata": {},
   "source": [
    "# Split data into train and test "
   ]
  },
  {
   "cell_type": "code",
   "execution_count": 930,
   "metadata": {},
   "outputs": [],
   "source": [
    "train_ratio = 0.8\n",
    "\n",
    "# train is now 80% of the entire data set\n",
    "df_train, df_test = train_test_split(df_agg, test_size=1 - train_ratio,random_state=49)"
   ]
  },
  {
   "cell_type": "markdown",
   "metadata": {},
   "source": [
    "## Standard scale columns"
   ]
  },
  {
   "cell_type": "code",
   "execution_count": 931,
   "metadata": {},
   "outputs": [
    {
     "name": "stderr",
     "output_type": "stream",
     "text": [
      "/Users/spencermarusco/anaconda3/lib/python3.7/site-packages/pandas/core/frame.py:3940: SettingWithCopyWarning:\n",
      "\n",
      "\n",
      "A value is trying to be set on a copy of a slice from a DataFrame\n",
      "\n",
      "See the caveats in the documentation: http://pandas.pydata.org/pandas-docs/stable/indexing.html#indexing-view-versus-copy\n",
      "\n"
     ]
    }
   ],
   "source": [
    "from sklearn.preprocessing import StandardScaler, MinMaxScaler\n",
    "features = [i for i in df_agg.columns if i != list(df_agg.columns)[-1]]\n",
    "scalar = StandardScaler()\n",
    "old_shape_train = df_train.shape\n",
    "old_shape_test = df_test.shape\n",
    "\n",
    "# the fit_transform ops returns a 2d numpy.array, we cast it to a pd.DataFrame\n",
    "standardized_features_train = pd.DataFrame(scalar.fit_transform(df_train[features].copy()), columns = features,index=df_train.index)\n",
    "standardized_features_test = pd.DataFrame(scalar.fit_transform(df_test[features].copy()), columns = features,index=df_test.index)\n",
    "\n",
    "# drop the unnormalized features from the dataframe\n",
    "df_train.drop(features, axis = 1, inplace = True)\n",
    "df_test.drop(features, axis = 1, inplace = True)\n",
    "\n",
    "# join back the normalized features\n",
    "df_train = pd.concat([standardized_features_train, df_train], axis= 1)\n",
    "df_test = pd.concat([standardized_features_test, df_test], axis= 1)\n",
    "\n",
    "# Assert if something goes wrong\n",
    "assert old_shape_train == df_train.shape, \"something went wrong!\"\n",
    "assert old_shape_test == df_test.shape, \"something went wrong!\""
   ]
  },
  {
   "cell_type": "markdown",
   "metadata": {},
   "source": [
    "# Read train and test df into tf objects and shuffle/batch"
   ]
  },
  {
   "cell_type": "code",
   "execution_count": 932,
   "metadata": {},
   "outputs": [],
   "source": [
    "train_dataset = tf.data.Dataset.from_tensor_slices((df_train.values[:,0:2500], df_train.values[:,2500]))\n",
    "test_dataset = tf.data.Dataset.from_tensor_slices((df_test.values[:,0:len(df_test.columns)-1], df_test.values[:,len(df_test.columns)-1]))\n",
    "train_dataset = train_dataset.shuffle(len(df_train)).batch(1)\n",
    "test_dataset = test_dataset.shuffle(len(df_test)).batch(1)"
   ]
  },
  {
   "cell_type": "markdown",
   "metadata": {},
   "source": [
    "# Define helper functions for callbacks"
   ]
  },
  {
   "cell_type": "code",
   "execution_count": 933,
   "metadata": {},
   "outputs": [],
   "source": [
    "# this helps makes our output less verbose but still shows progress\n",
    "class PrintDot(keras.callbacks.Callback):\n",
    "    def on_epoch_end(self, epoch, logs):\n",
    "        if epoch % 100 == 0: print('')\n",
    "        print('.', end='')\n",
    "early_stop = keras.callbacks.EarlyStopping(monitor='loss', patience=50)"
   ]
  },
  {
   "cell_type": "markdown",
   "metadata": {},
   "source": [
    "# Build model"
   ]
  },
  {
   "cell_type": "code",
   "execution_count": 971,
   "metadata": {},
   "outputs": [],
   "source": [
    "def build_model():\n",
    "    model = Sequential()\n",
    "    model.add(Dense(128, input_dim=df_train.values[:,0:len(df_train.columns)-1].shape[1], activation='relu'))\n",
    "    model.add(Dense(1024, activation='relu'))\n",
    "    model.add(Dense(1))\n",
    "\n",
    "    model.compile(optimizer='Adam', \n",
    "                  loss='mse',\n",
    "                  metrics=['mae', 'mse'])\n",
    "    return model"
   ]
  },
  {
   "cell_type": "markdown",
   "metadata": {},
   "source": [
    "# Fit model"
   ]
  },
  {
   "cell_type": "code",
   "execution_count": 972,
   "metadata": {},
   "outputs": [
    {
     "name": "stdout",
     "output_type": "stream",
     "text": [
      "\n",
      "...................................................................................................."
     ]
    }
   ],
   "source": [
    "model = build_model()\n",
    "history = model.fit(train_dataset, epochs=100, verbose=0, callbacks=[early_stop, PrintDot()])"
   ]
  },
  {
   "cell_type": "code",
   "execution_count": 973,
   "metadata": {},
   "outputs": [
    {
     "data": {
      "image/png": "[encoded data removed]",
      "text/plain": [
       "<Figure size 432x288 with 1 Axes>"
      ]
     },
     "metadata": {
      "needs_background": "light"
     },
     "output_type": "display_data"
    }
   ],
   "source": [
    "hist = pd.DataFrame(history.history)\n",
    "hist['epoch'] = history.epoch\n",
    "\n",
    "def plot_history():\n",
    "    plt.figure()\n",
    "    plt.xlabel('Epoch')\n",
    "    plt.ylabel('Mean Square Error')\n",
    "    plt.plot(hist['epoch'], hist['mse'], label='Train Error')\n",
    "    plt.legend()\n",
    "\n",
    "plot_history()"
   ]
  },
  {
   "cell_type": "markdown",
   "metadata": {},
   "source": [
    "# Validate model against test dataset"
   ]
  },
  {
   "cell_type": "code",
   "execution_count": 974,
   "metadata": {},
   "outputs": [
    {
     "name": "stdout",
     "output_type": "stream",
     "text": [
      "24/24 [==============================] - 0s 2ms/step - loss: 2317530.7500 - mae: 1037.4952 - mse: 2317530.7500\n",
      "Root Mean Square Error on test set: 1522.344\n"
     ]
    }
   ],
   "source": [
    "loss, mae, mse = model.evaluate(test_dataset)\n",
    "rmse = np.sqrt(mse)\n",
    "print('Root Mean Square Error on test set: {}'.format(round(rmse, 3)))"
   ]
  },
  {
   "cell_type": "code",
   "execution_count": null,
   "metadata": {},
   "outputs": [],
   "source": [
    "model.save('model.keras')"
   ]
  },
  {
   "cell_type": "code",
   "execution_count": null,
   "metadata": {},
   "outputs": [],
   "source": [
    "saved_model = tf.keras.models.load_model('model.keras')"
   ]
  },
  {
   "cell_type": "code",
   "execution_count": null,
   "metadata": {},
   "outputs": [],
   "source": []
  },
  {
   "cell_type": "code",
   "execution_count": null,
   "metadata": {},
   "outputs": [],
   "source": []
  },
  {
   "cell_type": "code",
   "execution_count": null,
   "metadata": {},
   "outputs": [],
   "source": []
  }
 ],
 "metadata": {
  "kernelspec": {
   "display_name": "Python 3",
   "language": "python",
   "name": "python3"
  },
  "language_info": {
   "codemirror_mode": {
    "name": "ipython",
    "version": 3
   },
   "file_extension": ".py",
   "mimetype": "text/x-python",
   "name": "python",
   "nbconvert_exporter": "python",
   "pygments_lexer": "ipython3",
   "version": "3.7.4"
  }
 },
 "nbformat": 4,
 "nbformat_minor": 2
}
